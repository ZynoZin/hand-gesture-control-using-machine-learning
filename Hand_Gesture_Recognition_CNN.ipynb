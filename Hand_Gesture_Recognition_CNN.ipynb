{
  "nbformat": 4,
  "nbformat_minor": 0,
  "metadata": {
    "colab": {
      "name": "Hand_Gesture_Recognition_CNN.ipynb",
      "provenance": [],
      "collapsed_sections": [],
      "mount_file_id": "1xDtHQUSHLSbkMeXWnEI1mRlsAxQoOOxb",
      "authorship_tag": "ABX9TyOdARrHpRhJ1U6xLNl4U7+k",
      "include_colab_link": true
    },
    "kernelspec": {
      "name": "python3",
      "display_name": "Python 3"
    },
    "language_info": {
      "name": "python"
    },
    "accelerator": "GPU"
  },
  "cells": [
    {
      "cell_type": "markdown",
      "metadata": {
        "id": "view-in-github",
        "colab_type": "text"
      },
      "source": [
        "<a href=\"https://colab.research.google.com/github/xDEVELYNNx/PFA_VF/blob/main/Hand_Gesture_Recognition_CNN.ipynb\" target=\"_parent\"><img src=\"https://colab.research.google.com/assets/colab-badge.svg\" alt=\"Open In Colab\"/></a>"
      ]
    },
    {
      "cell_type": "markdown",
      "metadata": {
        "id": "75Ghp9Krw--P"
      },
      "source": [
        "#importing libs "
      ]
    },
    {
      "cell_type": "code",
      "metadata": {
        "id": "4FP9R9kbZ2lC"
      },
      "source": [
        "import pandas as pd\n",
        "import numpy as np\n",
        "import matplotlib.pyplot as plt\n",
        "import keras\n",
        "from keras.models import Sequential\n",
        "from keras.layers import Dense, Conv2D , MaxPool2D , Flatten , Dropout , BatchNormalization\n",
        "from keras.preprocessing.image import ImageDataGenerator\n",
        "from sklearn.model_selection import train_test_split\n",
        "from sklearn.metrics import classification_report,confusion_matrix\n",
        "from keras.callbacks import ReduceLROnPlateau\n",
        "from sklearn.preprocessing import LabelBinarizer"
      ],
      "execution_count": null,
      "outputs": []
    },
    {
      "cell_type": "markdown",
      "metadata": {
        "id": "ZIV_osl0xF03"
      },
      "source": [
        "#mounting drive"
      ]
    },
    {
      "cell_type": "code",
      "metadata": {
        "colab": {
          "base_uri": "https://localhost:8080/"
        },
        "id": "pN-ErVSQjqPp",
        "outputId": "a9d9538a-0e46-4bf2-dcc1-be7e45ea0c83"
      },
      "source": [
        "from google.colab import drive\n",
        "drive.mount('/content/drive')"
      ],
      "execution_count": null,
      "outputs": [
        {
          "output_type": "stream",
          "text": [
            "Drive already mounted at /content/drive; to attempt to forcibly remount, call drive.mount(\"/content/drive\", force_remount=True).\n"
          ],
          "name": "stdout"
        }
      ]
    },
    {
      "cell_type": "markdown",
      "metadata": {
        "id": "3v9DR5Apw6Fv"
      },
      "source": [
        "#load data"
      ]
    },
    {
      "cell_type": "code",
      "metadata": {
        "id": "8sK-q8yijtYc"
      },
      "source": [
        "data_test=pd.read_csv(\"/content/drive/MyDrive/pfa/data_test.csv\")\n",
        "data_train=pd.read_csv(\"/content/drive/MyDrive/pfa/data_train.csv\")"
      ],
      "execution_count": null,
      "outputs": []
    },
    {
      "cell_type": "markdown",
      "metadata": {
        "id": "1qgX5R7ew8bu"
      },
      "source": [
        "#show data"
      ]
    },
    {
      "cell_type": "code",
      "metadata": {
        "colab": {
          "base_uri": "https://localhost:8080/",
          "height": 256
        },
        "id": "9rdUPrfrkrO-",
        "outputId": "04c442b5-ebb4-452a-a789-4efb3c6f3cc3"
      },
      "source": [
        "data_test.head()"
      ],
      "execution_count": null,
      "outputs": [
        {
          "output_type": "execute_result",
          "data": {
            "text/html": [
              "<div>\n",
              "<style scoped>\n",
              "    .dataframe tbody tr th:only-of-type {\n",
              "        vertical-align: middle;\n",
              "    }\n",
              "\n",
              "    .dataframe tbody tr th {\n",
              "        vertical-align: top;\n",
              "    }\n",
              "\n",
              "    .dataframe thead th {\n",
              "        text-align: right;\n",
              "    }\n",
              "</style>\n",
              "<table border=\"1\" class=\"dataframe\">\n",
              "  <thead>\n",
              "    <tr style=\"text-align: right;\">\n",
              "      <th></th>\n",
              "      <th>label</th>\n",
              "      <th>pixel_0</th>\n",
              "      <th>pixel_1</th>\n",
              "      <th>pixel_2</th>\n",
              "      <th>pixel_3</th>\n",
              "      <th>pixel_4</th>\n",
              "      <th>pixel_5</th>\n",
              "      <th>pixel_6</th>\n",
              "      <th>pixel_7</th>\n",
              "      <th>pixel_8</th>\n",
              "      <th>pixel_9</th>\n",
              "      <th>pixel_10</th>\n",
              "      <th>pixel_11</th>\n",
              "      <th>pixel_12</th>\n",
              "      <th>pixel_13</th>\n",
              "      <th>pixel_14</th>\n",
              "      <th>pixel_15</th>\n",
              "      <th>pixel_16</th>\n",
              "      <th>pixel_17</th>\n",
              "      <th>pixel_18</th>\n",
              "      <th>pixel_19</th>\n",
              "      <th>pixel_20</th>\n",
              "      <th>pixel_21</th>\n",
              "      <th>pixel_22</th>\n",
              "      <th>pixel_23</th>\n",
              "      <th>pixel_24</th>\n",
              "      <th>pixel_25</th>\n",
              "      <th>pixel_26</th>\n",
              "      <th>pixel_27</th>\n",
              "      <th>pixel_28</th>\n",
              "      <th>pixel_29</th>\n",
              "      <th>pixel_30</th>\n",
              "      <th>pixel_31</th>\n",
              "      <th>pixel_32</th>\n",
              "      <th>pixel_33</th>\n",
              "      <th>pixel_34</th>\n",
              "      <th>pixel_35</th>\n",
              "      <th>pixel_36</th>\n",
              "      <th>pixel_37</th>\n",
              "      <th>pixel_38</th>\n",
              "      <th>...</th>\n",
              "      <th>pixel_860</th>\n",
              "      <th>pixel_861</th>\n",
              "      <th>pixel_862</th>\n",
              "      <th>pixel_863</th>\n",
              "      <th>pixel_864</th>\n",
              "      <th>pixel_865</th>\n",
              "      <th>pixel_866</th>\n",
              "      <th>pixel_867</th>\n",
              "      <th>pixel_868</th>\n",
              "      <th>pixel_869</th>\n",
              "      <th>pixel_870</th>\n",
              "      <th>pixel_871</th>\n",
              "      <th>pixel_872</th>\n",
              "      <th>pixel_873</th>\n",
              "      <th>pixel_874</th>\n",
              "      <th>pixel_875</th>\n",
              "      <th>pixel_876</th>\n",
              "      <th>pixel_877</th>\n",
              "      <th>pixel_878</th>\n",
              "      <th>pixel_879</th>\n",
              "      <th>pixel_880</th>\n",
              "      <th>pixel_881</th>\n",
              "      <th>pixel_882</th>\n",
              "      <th>pixel_883</th>\n",
              "      <th>pixel_884</th>\n",
              "      <th>pixel_885</th>\n",
              "      <th>pixel_886</th>\n",
              "      <th>pixel_887</th>\n",
              "      <th>pixel_888</th>\n",
              "      <th>pixel_889</th>\n",
              "      <th>pixel_890</th>\n",
              "      <th>pixel_891</th>\n",
              "      <th>pixel_892</th>\n",
              "      <th>pixel_893</th>\n",
              "      <th>pixel_894</th>\n",
              "      <th>pixel_895</th>\n",
              "      <th>pixel_896</th>\n",
              "      <th>pixel_897</th>\n",
              "      <th>pixel_898</th>\n",
              "      <th>pixel_899</th>\n",
              "    </tr>\n",
              "  </thead>\n",
              "  <tbody>\n",
              "    <tr>\n",
              "      <th>0</th>\n",
              "      <td>backward</td>\n",
              "      <td>49</td>\n",
              "      <td>53</td>\n",
              "      <td>48</td>\n",
              "      <td>47</td>\n",
              "      <td>54</td>\n",
              "      <td>42</td>\n",
              "      <td>54</td>\n",
              "      <td>52</td>\n",
              "      <td>51</td>\n",
              "      <td>43</td>\n",
              "      <td>50</td>\n",
              "      <td>46</td>\n",
              "      <td>46</td>\n",
              "      <td>43</td>\n",
              "      <td>44</td>\n",
              "      <td>45</td>\n",
              "      <td>41</td>\n",
              "      <td>43</td>\n",
              "      <td>40</td>\n",
              "      <td>42</td>\n",
              "      <td>37</td>\n",
              "      <td>33</td>\n",
              "      <td>31</td>\n",
              "      <td>39</td>\n",
              "      <td>35</td>\n",
              "      <td>32</td>\n",
              "      <td>29</td>\n",
              "      <td>28</td>\n",
              "      <td>33</td>\n",
              "      <td>28</td>\n",
              "      <td>52</td>\n",
              "      <td>49</td>\n",
              "      <td>57</td>\n",
              "      <td>53</td>\n",
              "      <td>52</td>\n",
              "      <td>51</td>\n",
              "      <td>52</td>\n",
              "      <td>49</td>\n",
              "      <td>56</td>\n",
              "      <td>...</td>\n",
              "      <td>14</td>\n",
              "      <td>16</td>\n",
              "      <td>17</td>\n",
              "      <td>13</td>\n",
              "      <td>13</td>\n",
              "      <td>17</td>\n",
              "      <td>11</td>\n",
              "      <td>14</td>\n",
              "      <td>14</td>\n",
              "      <td>8</td>\n",
              "      <td>17</td>\n",
              "      <td>13</td>\n",
              "      <td>17</td>\n",
              "      <td>22</td>\n",
              "      <td>26</td>\n",
              "      <td>27</td>\n",
              "      <td>28</td>\n",
              "      <td>25</td>\n",
              "      <td>27</td>\n",
              "      <td>30</td>\n",
              "      <td>75</td>\n",
              "      <td>153</td>\n",
              "      <td>153</td>\n",
              "      <td>143</td>\n",
              "      <td>123</td>\n",
              "      <td>63</td>\n",
              "      <td>28</td>\n",
              "      <td>17</td>\n",
              "      <td>21</td>\n",
              "      <td>18</td>\n",
              "      <td>15</td>\n",
              "      <td>12</td>\n",
              "      <td>19</td>\n",
              "      <td>16</td>\n",
              "      <td>15</td>\n",
              "      <td>12</td>\n",
              "      <td>14</td>\n",
              "      <td>10</td>\n",
              "      <td>11</td>\n",
              "      <td>11</td>\n",
              "    </tr>\n",
              "    <tr>\n",
              "      <th>1</th>\n",
              "      <td>forward</td>\n",
              "      <td>152</td>\n",
              "      <td>157</td>\n",
              "      <td>126</td>\n",
              "      <td>121</td>\n",
              "      <td>68</td>\n",
              "      <td>161</td>\n",
              "      <td>76</td>\n",
              "      <td>151</td>\n",
              "      <td>158</td>\n",
              "      <td>128</td>\n",
              "      <td>102</td>\n",
              "      <td>132</td>\n",
              "      <td>118</td>\n",
              "      <td>124</td>\n",
              "      <td>101</td>\n",
              "      <td>163</td>\n",
              "      <td>164</td>\n",
              "      <td>133</td>\n",
              "      <td>141</td>\n",
              "      <td>140</td>\n",
              "      <td>163</td>\n",
              "      <td>166</td>\n",
              "      <td>120</td>\n",
              "      <td>98</td>\n",
              "      <td>151</td>\n",
              "      <td>162</td>\n",
              "      <td>143</td>\n",
              "      <td>86</td>\n",
              "      <td>127</td>\n",
              "      <td>88</td>\n",
              "      <td>152</td>\n",
              "      <td>154</td>\n",
              "      <td>160</td>\n",
              "      <td>85</td>\n",
              "      <td>116</td>\n",
              "      <td>147</td>\n",
              "      <td>156</td>\n",
              "      <td>101</td>\n",
              "      <td>114</td>\n",
              "      <td>...</td>\n",
              "      <td>116</td>\n",
              "      <td>141</td>\n",
              "      <td>137</td>\n",
              "      <td>165</td>\n",
              "      <td>163</td>\n",
              "      <td>72</td>\n",
              "      <td>106</td>\n",
              "      <td>103</td>\n",
              "      <td>74</td>\n",
              "      <td>33</td>\n",
              "      <td>141</td>\n",
              "      <td>80</td>\n",
              "      <td>179</td>\n",
              "      <td>177</td>\n",
              "      <td>179</td>\n",
              "      <td>118</td>\n",
              "      <td>126</td>\n",
              "      <td>74</td>\n",
              "      <td>88</td>\n",
              "      <td>99</td>\n",
              "      <td>104</td>\n",
              "      <td>115</td>\n",
              "      <td>99</td>\n",
              "      <td>86</td>\n",
              "      <td>77</td>\n",
              "      <td>63</td>\n",
              "      <td>67</td>\n",
              "      <td>82</td>\n",
              "      <td>90</td>\n",
              "      <td>119</td>\n",
              "      <td>63</td>\n",
              "      <td>69</td>\n",
              "      <td>136</td>\n",
              "      <td>134</td>\n",
              "      <td>159</td>\n",
              "      <td>145</td>\n",
              "      <td>40</td>\n",
              "      <td>50</td>\n",
              "      <td>52</td>\n",
              "      <td>45</td>\n",
              "    </tr>\n",
              "    <tr>\n",
              "      <th>2</th>\n",
              "      <td>stop</td>\n",
              "      <td>196</td>\n",
              "      <td>194</td>\n",
              "      <td>193</td>\n",
              "      <td>192</td>\n",
              "      <td>186</td>\n",
              "      <td>181</td>\n",
              "      <td>180</td>\n",
              "      <td>179</td>\n",
              "      <td>174</td>\n",
              "      <td>173</td>\n",
              "      <td>169</td>\n",
              "      <td>167</td>\n",
              "      <td>166</td>\n",
              "      <td>166</td>\n",
              "      <td>165</td>\n",
              "      <td>164</td>\n",
              "      <td>157</td>\n",
              "      <td>158</td>\n",
              "      <td>159</td>\n",
              "      <td>155</td>\n",
              "      <td>156</td>\n",
              "      <td>156</td>\n",
              "      <td>154</td>\n",
              "      <td>152</td>\n",
              "      <td>154</td>\n",
              "      <td>153</td>\n",
              "      <td>154</td>\n",
              "      <td>151</td>\n",
              "      <td>152</td>\n",
              "      <td>154</td>\n",
              "      <td>198</td>\n",
              "      <td>194</td>\n",
              "      <td>194</td>\n",
              "      <td>191</td>\n",
              "      <td>188</td>\n",
              "      <td>184</td>\n",
              "      <td>181</td>\n",
              "      <td>176</td>\n",
              "      <td>176</td>\n",
              "      <td>...</td>\n",
              "      <td>117</td>\n",
              "      <td>115</td>\n",
              "      <td>113</td>\n",
              "      <td>116</td>\n",
              "      <td>116</td>\n",
              "      <td>119</td>\n",
              "      <td>118</td>\n",
              "      <td>143</td>\n",
              "      <td>122</td>\n",
              "      <td>158</td>\n",
              "      <td>179</td>\n",
              "      <td>178</td>\n",
              "      <td>176</td>\n",
              "      <td>174</td>\n",
              "      <td>172</td>\n",
              "      <td>168</td>\n",
              "      <td>165</td>\n",
              "      <td>162</td>\n",
              "      <td>155</td>\n",
              "      <td>148</td>\n",
              "      <td>104</td>\n",
              "      <td>113</td>\n",
              "      <td>107</td>\n",
              "      <td>104</td>\n",
              "      <td>85</td>\n",
              "      <td>70</td>\n",
              "      <td>70</td>\n",
              "      <td>116</td>\n",
              "      <td>115</td>\n",
              "      <td>116</td>\n",
              "      <td>115</td>\n",
              "      <td>116</td>\n",
              "      <td>116</td>\n",
              "      <td>116</td>\n",
              "      <td>115</td>\n",
              "      <td>116</td>\n",
              "      <td>116</td>\n",
              "      <td>140</td>\n",
              "      <td>123</td>\n",
              "      <td>159</td>\n",
              "    </tr>\n",
              "    <tr>\n",
              "      <th>3</th>\n",
              "      <td>backward</td>\n",
              "      <td>91</td>\n",
              "      <td>88</td>\n",
              "      <td>89</td>\n",
              "      <td>92</td>\n",
              "      <td>87</td>\n",
              "      <td>79</td>\n",
              "      <td>82</td>\n",
              "      <td>81</td>\n",
              "      <td>82</td>\n",
              "      <td>80</td>\n",
              "      <td>79</td>\n",
              "      <td>79</td>\n",
              "      <td>80</td>\n",
              "      <td>81</td>\n",
              "      <td>82</td>\n",
              "      <td>82</td>\n",
              "      <td>80</td>\n",
              "      <td>82</td>\n",
              "      <td>85</td>\n",
              "      <td>86</td>\n",
              "      <td>87</td>\n",
              "      <td>88</td>\n",
              "      <td>90</td>\n",
              "      <td>93</td>\n",
              "      <td>95</td>\n",
              "      <td>95</td>\n",
              "      <td>97</td>\n",
              "      <td>100</td>\n",
              "      <td>99</td>\n",
              "      <td>101</td>\n",
              "      <td>90</td>\n",
              "      <td>87</td>\n",
              "      <td>90</td>\n",
              "      <td>93</td>\n",
              "      <td>92</td>\n",
              "      <td>87</td>\n",
              "      <td>89</td>\n",
              "      <td>86</td>\n",
              "      <td>83</td>\n",
              "      <td>...</td>\n",
              "      <td>155</td>\n",
              "      <td>155</td>\n",
              "      <td>159</td>\n",
              "      <td>161</td>\n",
              "      <td>162</td>\n",
              "      <td>164</td>\n",
              "      <td>164</td>\n",
              "      <td>163</td>\n",
              "      <td>160</td>\n",
              "      <td>159</td>\n",
              "      <td>201</td>\n",
              "      <td>207</td>\n",
              "      <td>200</td>\n",
              "      <td>128</td>\n",
              "      <td>137</td>\n",
              "      <td>140</td>\n",
              "      <td>212</td>\n",
              "      <td>213</td>\n",
              "      <td>211</td>\n",
              "      <td>212</td>\n",
              "      <td>141</td>\n",
              "      <td>75</td>\n",
              "      <td>91</td>\n",
              "      <td>104</td>\n",
              "      <td>116</td>\n",
              "      <td>113</td>\n",
              "      <td>105</td>\n",
              "      <td>141</td>\n",
              "      <td>142</td>\n",
              "      <td>160</td>\n",
              "      <td>159</td>\n",
              "      <td>158</td>\n",
              "      <td>161</td>\n",
              "      <td>159</td>\n",
              "      <td>164</td>\n",
              "      <td>164</td>\n",
              "      <td>162</td>\n",
              "      <td>160</td>\n",
              "      <td>158</td>\n",
              "      <td>157</td>\n",
              "    </tr>\n",
              "    <tr>\n",
              "      <th>4</th>\n",
              "      <td>left</td>\n",
              "      <td>158</td>\n",
              "      <td>156</td>\n",
              "      <td>152</td>\n",
              "      <td>155</td>\n",
              "      <td>157</td>\n",
              "      <td>156</td>\n",
              "      <td>155</td>\n",
              "      <td>153</td>\n",
              "      <td>148</td>\n",
              "      <td>154</td>\n",
              "      <td>150</td>\n",
              "      <td>148</td>\n",
              "      <td>148</td>\n",
              "      <td>148</td>\n",
              "      <td>144</td>\n",
              "      <td>143</td>\n",
              "      <td>146</td>\n",
              "      <td>142</td>\n",
              "      <td>138</td>\n",
              "      <td>139</td>\n",
              "      <td>142</td>\n",
              "      <td>140</td>\n",
              "      <td>135</td>\n",
              "      <td>138</td>\n",
              "      <td>137</td>\n",
              "      <td>141</td>\n",
              "      <td>137</td>\n",
              "      <td>141</td>\n",
              "      <td>147</td>\n",
              "      <td>141</td>\n",
              "      <td>158</td>\n",
              "      <td>159</td>\n",
              "      <td>154</td>\n",
              "      <td>155</td>\n",
              "      <td>158</td>\n",
              "      <td>151</td>\n",
              "      <td>154</td>\n",
              "      <td>151</td>\n",
              "      <td>153</td>\n",
              "      <td>...</td>\n",
              "      <td>41</td>\n",
              "      <td>44</td>\n",
              "      <td>45</td>\n",
              "      <td>47</td>\n",
              "      <td>51</td>\n",
              "      <td>48</td>\n",
              "      <td>54</td>\n",
              "      <td>173</td>\n",
              "      <td>196</td>\n",
              "      <td>195</td>\n",
              "      <td>243</td>\n",
              "      <td>250</td>\n",
              "      <td>230</td>\n",
              "      <td>227</td>\n",
              "      <td>228</td>\n",
              "      <td>226</td>\n",
              "      <td>223</td>\n",
              "      <td>216</td>\n",
              "      <td>221</td>\n",
              "      <td>224</td>\n",
              "      <td>219</td>\n",
              "      <td>222</td>\n",
              "      <td>213</td>\n",
              "      <td>212</td>\n",
              "      <td>213</td>\n",
              "      <td>215</td>\n",
              "      <td>215</td>\n",
              "      <td>186</td>\n",
              "      <td>42</td>\n",
              "      <td>42</td>\n",
              "      <td>42</td>\n",
              "      <td>44</td>\n",
              "      <td>40</td>\n",
              "      <td>41</td>\n",
              "      <td>45</td>\n",
              "      <td>48</td>\n",
              "      <td>50</td>\n",
              "      <td>76</td>\n",
              "      <td>203</td>\n",
              "      <td>195</td>\n",
              "    </tr>\n",
              "  </tbody>\n",
              "</table>\n",
              "<p>5 rows × 901 columns</p>\n",
              "</div>"
            ],
            "text/plain": [
              "      label  pixel_0  pixel_1  ...  pixel_897  pixel_898  pixel_899\n",
              "0  backward       49       53  ...         10         11         11\n",
              "1   forward      152      157  ...         50         52         45\n",
              "2      stop      196      194  ...        140        123        159\n",
              "3  backward       91       88  ...        160        158        157\n",
              "4      left      158      156  ...         76        203        195\n",
              "\n",
              "[5 rows x 901 columns]"
            ]
          },
          "metadata": {
            "tags": []
          },
          "execution_count": 4
        }
      ]
    },
    {
      "cell_type": "markdown",
      "metadata": {
        "id": "eLtgEJZSw2u8"
      },
      "source": [
        "#extract labels"
      ]
    },
    {
      "cell_type": "code",
      "metadata": {
        "id": "X5hYD0_lksHe"
      },
      "source": [
        "y_train=data_train['label']\n",
        "y_test=data_test['label']\n",
        "del data_train['label']\n",
        "del data_test['label']"
      ],
      "execution_count": null,
      "outputs": []
    },
    {
      "cell_type": "markdown",
      "metadata": {
        "id": "fi80_uDawyC4"
      },
      "source": [
        "#label binarize"
      ]
    },
    {
      "cell_type": "code",
      "metadata": {
        "id": "YDjSAntGksBb"
      },
      "source": [
        "label_binarizer=LabelBinarizer()\n",
        "\n",
        "y_train = label_binarizer.fit_transform(y_train)\n",
        "y_test = label_binarizer.fit_transform(y_test)\n",
        "\n",
        "x_train = data_train.values\n",
        "x_test = data_test.values"
      ],
      "execution_count": null,
      "outputs": []
    },
    {
      "cell_type": "markdown",
      "metadata": {
        "id": "Ny2vS_yov8xp"
      },
      "source": [
        "#normalization"
      ]
    },
    {
      "cell_type": "code",
      "metadata": {
        "id": "PTE1SqCYlegK"
      },
      "source": [
        "x_train = x_train/255\n",
        "x_test = x_test/255"
      ],
      "execution_count": null,
      "outputs": []
    },
    {
      "cell_type": "markdown",
      "metadata": {
        "id": "BR3rqnrCwD7r"
      },
      "source": [
        "#reshape\n"
      ]
    },
    {
      "cell_type": "code",
      "metadata": {
        "id": "XwhsPYcPmbHg"
      },
      "source": [
        "x_train = x_train.reshape(-1,30,30,1)\n",
        "x_test = x_test.reshape(-1,30,30,1)"
      ],
      "execution_count": null,
      "outputs": []
    },
    {
      "cell_type": "markdown",
      "metadata": {
        "id": "tTmolGDZwGps"
      },
      "source": [
        "#build model "
      ]
    },
    {
      "cell_type": "code",
      "metadata": {
        "id": "3_qQr2dEmnrp",
        "colab": {
          "base_uri": "https://localhost:8080/",
          "height": 400
        },
        "outputId": "8062a246-6b90-466b-e018-29bd6139116e"
      },
      "source": [
        "model=Sequential()\n",
        "model.add(Conv2D(75,(3,3), strides=1,padding='same',activation='relu',input_shape=(30,30,1)))\n",
        "model.add(BatchNormalization())\n",
        "model.add(MaxPool2D((2,2), strides=2,padding='same'))\n",
        "model.add(Conv2D(50,(3,3), strides=1,padding='same',activation='relu'))\n",
        "model.add(Dropout(0.2))\n",
        "model.add(BatchNormalization())\n",
        "model.add(MaxPool2D((2,2), strides=2,padding='same'))\n",
        "model.add(Conv2D(25,(3,3), strides=1,padding='same',activation='relu'))\n",
        "model.add(BatchNormalization())\n",
        "model.add(MaxPool2D((2,2), strides=2,padding='same'))\n",
        "model.add(Flatten())\n",
        "model.add(Dense(units=512,activation='relu'))\n",
        "model.add(Dropout(0.3))\n",
        "model.add(Dense(units=5,activation='softmax'))"
      ],
      "execution_count": null,
      "outputs": [
        {
          "output_type": "error",
          "ename": "ValueError",
          "evalue": "ignored",
          "traceback": [
            "\u001b[0;31m---------------------------------------------------------------------------\u001b[0m",
            "\u001b[0;31mValueError\u001b[0m                                Traceback (most recent call last)",
            "\u001b[0;32m<ipython-input-9-56732945188e>\u001b[0m in \u001b[0;36m<module>\u001b[0;34m()\u001b[0m\n\u001b[1;32m      1\u001b[0m \u001b[0mmodel\u001b[0m\u001b[0;34m=\u001b[0m\u001b[0mSequential\u001b[0m\u001b[0;34m(\u001b[0m\u001b[0;34m)\u001b[0m\u001b[0;34m\u001b[0m\u001b[0;34m\u001b[0m\u001b[0m\n\u001b[0;32m----> 2\u001b[0;31m \u001b[0mmodel\u001b[0m\u001b[0;34m.\u001b[0m\u001b[0madd\u001b[0m\u001b[0;34m(\u001b[0m\u001b[0mConv2D\u001b[0m\u001b[0;34m(\u001b[0m\u001b[0;36m75\u001b[0m\u001b[0;34m,\u001b[0m\u001b[0;34m(\u001b[0m\u001b[0;36m3\u001b[0m\u001b[0;34m,\u001b[0m\u001b[0;36m3\u001b[0m\u001b[0;34m)\u001b[0m\u001b[0;34m,\u001b[0m \u001b[0mstrides\u001b[0m\u001b[0;34m=\u001b[0m\u001b[0;36m1\u001b[0m\u001b[0;34m,\u001b[0m\u001b[0mpadding\u001b[0m\u001b[0;34m=\u001b[0m\u001b[0;34m'same'\u001b[0m\u001b[0;34m,\u001b[0m\u001b[0mactivation\u001b[0m\u001b[0;34m=\u001b[0m\u001b[0;34m'relu'\u001b[0m\u001b[0;34m,\u001b[0m\u001b[0minput_shape\u001b[0m\u001b[0;34m=\u001b[0m\u001b[0;34m(\u001b[0m\u001b[0;36m30\u001b[0m\u001b[0;34m,\u001b[0m\u001b[0;36m30\u001b[0m\u001b[0;34m)\u001b[0m\u001b[0;34m)\u001b[0m\u001b[0;34m)\u001b[0m\u001b[0;34m\u001b[0m\u001b[0;34m\u001b[0m\u001b[0m\n\u001b[0m\u001b[1;32m      3\u001b[0m \u001b[0mmodel\u001b[0m\u001b[0;34m.\u001b[0m\u001b[0madd\u001b[0m\u001b[0;34m(\u001b[0m\u001b[0mBatchNormalization\u001b[0m\u001b[0;34m(\u001b[0m\u001b[0;34m)\u001b[0m\u001b[0;34m)\u001b[0m\u001b[0;34m\u001b[0m\u001b[0;34m\u001b[0m\u001b[0m\n\u001b[1;32m      4\u001b[0m \u001b[0mmodel\u001b[0m\u001b[0;34m.\u001b[0m\u001b[0madd\u001b[0m\u001b[0;34m(\u001b[0m\u001b[0mMaxPool2D\u001b[0m\u001b[0;34m(\u001b[0m\u001b[0;34m(\u001b[0m\u001b[0;36m2\u001b[0m\u001b[0;34m,\u001b[0m\u001b[0;36m2\u001b[0m\u001b[0;34m)\u001b[0m\u001b[0;34m,\u001b[0m \u001b[0mstrides\u001b[0m\u001b[0;34m=\u001b[0m\u001b[0;36m2\u001b[0m\u001b[0;34m,\u001b[0m\u001b[0mpadding\u001b[0m\u001b[0;34m=\u001b[0m\u001b[0;34m'same'\u001b[0m\u001b[0;34m)\u001b[0m\u001b[0;34m)\u001b[0m\u001b[0;34m\u001b[0m\u001b[0;34m\u001b[0m\u001b[0m\n\u001b[1;32m      5\u001b[0m \u001b[0mmodel\u001b[0m\u001b[0;34m.\u001b[0m\u001b[0madd\u001b[0m\u001b[0;34m(\u001b[0m\u001b[0mConv2D\u001b[0m\u001b[0;34m(\u001b[0m\u001b[0;36m50\u001b[0m\u001b[0;34m,\u001b[0m\u001b[0;34m(\u001b[0m\u001b[0;36m3\u001b[0m\u001b[0;34m,\u001b[0m\u001b[0;36m3\u001b[0m\u001b[0;34m)\u001b[0m\u001b[0;34m,\u001b[0m \u001b[0mstrides\u001b[0m\u001b[0;34m=\u001b[0m\u001b[0;36m1\u001b[0m\u001b[0;34m,\u001b[0m\u001b[0mpadding\u001b[0m\u001b[0;34m=\u001b[0m\u001b[0;34m'same'\u001b[0m\u001b[0;34m,\u001b[0m\u001b[0mactivation\u001b[0m\u001b[0;34m=\u001b[0m\u001b[0;34m'relu'\u001b[0m\u001b[0;34m)\u001b[0m\u001b[0;34m)\u001b[0m\u001b[0;34m\u001b[0m\u001b[0;34m\u001b[0m\u001b[0m\n",
            "\u001b[0;32m/usr/local/lib/python3.7/dist-packages/tensorflow/python/training/tracking/base.py\u001b[0m in \u001b[0;36m_method_wrapper\u001b[0;34m(self, *args, **kwargs)\u001b[0m\n\u001b[1;32m    515\u001b[0m     \u001b[0mself\u001b[0m\u001b[0;34m.\u001b[0m\u001b[0m_self_setattr_tracking\u001b[0m \u001b[0;34m=\u001b[0m \u001b[0;32mFalse\u001b[0m  \u001b[0;31m# pylint: disable=protected-access\u001b[0m\u001b[0;34m\u001b[0m\u001b[0;34m\u001b[0m\u001b[0m\n\u001b[1;32m    516\u001b[0m     \u001b[0;32mtry\u001b[0m\u001b[0;34m:\u001b[0m\u001b[0;34m\u001b[0m\u001b[0;34m\u001b[0m\u001b[0m\n\u001b[0;32m--> 517\u001b[0;31m       \u001b[0mresult\u001b[0m \u001b[0;34m=\u001b[0m \u001b[0mmethod\u001b[0m\u001b[0;34m(\u001b[0m\u001b[0mself\u001b[0m\u001b[0;34m,\u001b[0m \u001b[0;34m*\u001b[0m\u001b[0margs\u001b[0m\u001b[0;34m,\u001b[0m \u001b[0;34m**\u001b[0m\u001b[0mkwargs\u001b[0m\u001b[0;34m)\u001b[0m\u001b[0;34m\u001b[0m\u001b[0;34m\u001b[0m\u001b[0m\n\u001b[0m\u001b[1;32m    518\u001b[0m     \u001b[0;32mfinally\u001b[0m\u001b[0;34m:\u001b[0m\u001b[0;34m\u001b[0m\u001b[0;34m\u001b[0m\u001b[0m\n\u001b[1;32m    519\u001b[0m       \u001b[0mself\u001b[0m\u001b[0;34m.\u001b[0m\u001b[0m_self_setattr_tracking\u001b[0m \u001b[0;34m=\u001b[0m \u001b[0mprevious_value\u001b[0m  \u001b[0;31m# pylint: disable=protected-access\u001b[0m\u001b[0;34m\u001b[0m\u001b[0;34m\u001b[0m\u001b[0m\n",
            "\u001b[0;32m/usr/local/lib/python3.7/dist-packages/tensorflow/python/keras/engine/sequential.py\u001b[0m in \u001b[0;36madd\u001b[0;34m(self, layer)\u001b[0m\n\u001b[1;32m    206\u001b[0m           \u001b[0;31m# and create the node connecting the current layer\u001b[0m\u001b[0;34m\u001b[0m\u001b[0;34m\u001b[0m\u001b[0;34m\u001b[0m\u001b[0m\n\u001b[1;32m    207\u001b[0m           \u001b[0;31m# to the input layer we just created.\u001b[0m\u001b[0;34m\u001b[0m\u001b[0;34m\u001b[0m\u001b[0;34m\u001b[0m\u001b[0m\n\u001b[0;32m--> 208\u001b[0;31m           \u001b[0mlayer\u001b[0m\u001b[0;34m(\u001b[0m\u001b[0mx\u001b[0m\u001b[0;34m)\u001b[0m\u001b[0;34m\u001b[0m\u001b[0;34m\u001b[0m\u001b[0m\n\u001b[0m\u001b[1;32m    209\u001b[0m           \u001b[0mset_inputs\u001b[0m \u001b[0;34m=\u001b[0m \u001b[0;32mTrue\u001b[0m\u001b[0;34m\u001b[0m\u001b[0;34m\u001b[0m\u001b[0m\n\u001b[1;32m    210\u001b[0m \u001b[0;34m\u001b[0m\u001b[0m\n",
            "\u001b[0;32m/usr/local/lib/python3.7/dist-packages/tensorflow/python/keras/engine/base_layer.py\u001b[0m in \u001b[0;36m__call__\u001b[0;34m(self, *args, **kwargs)\u001b[0m\n\u001b[1;32m    950\u001b[0m     \u001b[0;32mif\u001b[0m \u001b[0m_in_functional_construction_mode\u001b[0m\u001b[0;34m(\u001b[0m\u001b[0mself\u001b[0m\u001b[0;34m,\u001b[0m \u001b[0minputs\u001b[0m\u001b[0;34m,\u001b[0m \u001b[0margs\u001b[0m\u001b[0;34m,\u001b[0m \u001b[0mkwargs\u001b[0m\u001b[0;34m,\u001b[0m \u001b[0minput_list\u001b[0m\u001b[0;34m)\u001b[0m\u001b[0;34m:\u001b[0m\u001b[0;34m\u001b[0m\u001b[0;34m\u001b[0m\u001b[0m\n\u001b[1;32m    951\u001b[0m       return self._functional_construction_call(inputs, args, kwargs,\n\u001b[0;32m--> 952\u001b[0;31m                                                 input_list)\n\u001b[0m\u001b[1;32m    953\u001b[0m \u001b[0;34m\u001b[0m\u001b[0m\n\u001b[1;32m    954\u001b[0m     \u001b[0;31m# Maintains info about the `Layer.call` stack.\u001b[0m\u001b[0;34m\u001b[0m\u001b[0;34m\u001b[0m\u001b[0;34m\u001b[0m\u001b[0m\n",
            "\u001b[0;32m/usr/local/lib/python3.7/dist-packages/tensorflow/python/keras/engine/base_layer.py\u001b[0m in \u001b[0;36m_functional_construction_call\u001b[0;34m(self, inputs, args, kwargs, input_list)\u001b[0m\n\u001b[1;32m   1089\u001b[0m         \u001b[0;31m# Check input assumptions set after layer building, e.g. input shape.\u001b[0m\u001b[0;34m\u001b[0m\u001b[0;34m\u001b[0m\u001b[0;34m\u001b[0m\u001b[0m\n\u001b[1;32m   1090\u001b[0m         outputs = self._keras_tensor_symbolic_call(\n\u001b[0;32m-> 1091\u001b[0;31m             inputs, input_masks, args, kwargs)\n\u001b[0m\u001b[1;32m   1092\u001b[0m \u001b[0;34m\u001b[0m\u001b[0m\n\u001b[1;32m   1093\u001b[0m         \u001b[0;32mif\u001b[0m \u001b[0moutputs\u001b[0m \u001b[0;32mis\u001b[0m \u001b[0;32mNone\u001b[0m\u001b[0;34m:\u001b[0m\u001b[0;34m\u001b[0m\u001b[0;34m\u001b[0m\u001b[0m\n",
            "\u001b[0;32m/usr/local/lib/python3.7/dist-packages/tensorflow/python/keras/engine/base_layer.py\u001b[0m in \u001b[0;36m_keras_tensor_symbolic_call\u001b[0;34m(self, inputs, input_masks, args, kwargs)\u001b[0m\n\u001b[1;32m    820\u001b[0m       \u001b[0;32mreturn\u001b[0m \u001b[0mnest\u001b[0m\u001b[0;34m.\u001b[0m\u001b[0mmap_structure\u001b[0m\u001b[0;34m(\u001b[0m\u001b[0mkeras_tensor\u001b[0m\u001b[0;34m.\u001b[0m\u001b[0mKerasTensor\u001b[0m\u001b[0;34m,\u001b[0m \u001b[0moutput_signature\u001b[0m\u001b[0;34m)\u001b[0m\u001b[0;34m\u001b[0m\u001b[0;34m\u001b[0m\u001b[0m\n\u001b[1;32m    821\u001b[0m     \u001b[0;32melse\u001b[0m\u001b[0;34m:\u001b[0m\u001b[0;34m\u001b[0m\u001b[0;34m\u001b[0m\u001b[0m\n\u001b[0;32m--> 822\u001b[0;31m       \u001b[0;32mreturn\u001b[0m \u001b[0mself\u001b[0m\u001b[0;34m.\u001b[0m\u001b[0m_infer_output_signature\u001b[0m\u001b[0;34m(\u001b[0m\u001b[0minputs\u001b[0m\u001b[0;34m,\u001b[0m \u001b[0margs\u001b[0m\u001b[0;34m,\u001b[0m \u001b[0mkwargs\u001b[0m\u001b[0;34m,\u001b[0m \u001b[0minput_masks\u001b[0m\u001b[0;34m)\u001b[0m\u001b[0;34m\u001b[0m\u001b[0;34m\u001b[0m\u001b[0m\n\u001b[0m\u001b[1;32m    823\u001b[0m \u001b[0;34m\u001b[0m\u001b[0m\n\u001b[1;32m    824\u001b[0m   \u001b[0;32mdef\u001b[0m \u001b[0m_infer_output_signature\u001b[0m\u001b[0;34m(\u001b[0m\u001b[0mself\u001b[0m\u001b[0;34m,\u001b[0m \u001b[0minputs\u001b[0m\u001b[0;34m,\u001b[0m \u001b[0margs\u001b[0m\u001b[0;34m,\u001b[0m \u001b[0mkwargs\u001b[0m\u001b[0;34m,\u001b[0m \u001b[0minput_masks\u001b[0m\u001b[0;34m)\u001b[0m\u001b[0;34m:\u001b[0m\u001b[0;34m\u001b[0m\u001b[0;34m\u001b[0m\u001b[0m\n",
            "\u001b[0;32m/usr/local/lib/python3.7/dist-packages/tensorflow/python/keras/engine/base_layer.py\u001b[0m in \u001b[0;36m_infer_output_signature\u001b[0;34m(self, inputs, args, kwargs, input_masks)\u001b[0m\n\u001b[1;32m    860\u001b[0m           \u001b[0;31m# overridden).\u001b[0m\u001b[0;34m\u001b[0m\u001b[0;34m\u001b[0m\u001b[0;34m\u001b[0m\u001b[0m\n\u001b[1;32m    861\u001b[0m           \u001b[0;31m# TODO(kaftan): do we maybe_build here, or have we already done it?\u001b[0m\u001b[0;34m\u001b[0m\u001b[0;34m\u001b[0m\u001b[0;34m\u001b[0m\u001b[0m\n\u001b[0;32m--> 862\u001b[0;31m           \u001b[0mself\u001b[0m\u001b[0;34m.\u001b[0m\u001b[0m_maybe_build\u001b[0m\u001b[0;34m(\u001b[0m\u001b[0minputs\u001b[0m\u001b[0;34m)\u001b[0m\u001b[0;34m\u001b[0m\u001b[0;34m\u001b[0m\u001b[0m\n\u001b[0m\u001b[1;32m    863\u001b[0m           \u001b[0moutputs\u001b[0m \u001b[0;34m=\u001b[0m \u001b[0mcall_fn\u001b[0m\u001b[0;34m(\u001b[0m\u001b[0minputs\u001b[0m\u001b[0;34m,\u001b[0m \u001b[0;34m*\u001b[0m\u001b[0margs\u001b[0m\u001b[0;34m,\u001b[0m \u001b[0;34m**\u001b[0m\u001b[0mkwargs\u001b[0m\u001b[0;34m)\u001b[0m\u001b[0;34m\u001b[0m\u001b[0;34m\u001b[0m\u001b[0m\n\u001b[1;32m    864\u001b[0m \u001b[0;34m\u001b[0m\u001b[0m\n",
            "\u001b[0;32m/usr/local/lib/python3.7/dist-packages/tensorflow/python/keras/engine/base_layer.py\u001b[0m in \u001b[0;36m_maybe_build\u001b[0;34m(self, inputs)\u001b[0m\n\u001b[1;32m   2683\u001b[0m     \u001b[0;32mif\u001b[0m \u001b[0;32mnot\u001b[0m \u001b[0mself\u001b[0m\u001b[0;34m.\u001b[0m\u001b[0mbuilt\u001b[0m\u001b[0;34m:\u001b[0m\u001b[0;34m\u001b[0m\u001b[0;34m\u001b[0m\u001b[0m\n\u001b[1;32m   2684\u001b[0m       input_spec.assert_input_compatibility(\n\u001b[0;32m-> 2685\u001b[0;31m           self.input_spec, inputs, self.name)\n\u001b[0m\u001b[1;32m   2686\u001b[0m       \u001b[0minput_list\u001b[0m \u001b[0;34m=\u001b[0m \u001b[0mnest\u001b[0m\u001b[0;34m.\u001b[0m\u001b[0mflatten\u001b[0m\u001b[0;34m(\u001b[0m\u001b[0minputs\u001b[0m\u001b[0;34m)\u001b[0m\u001b[0;34m\u001b[0m\u001b[0;34m\u001b[0m\u001b[0m\n\u001b[1;32m   2687\u001b[0m       \u001b[0;32mif\u001b[0m \u001b[0minput_list\u001b[0m \u001b[0;32mand\u001b[0m \u001b[0mself\u001b[0m\u001b[0;34m.\u001b[0m\u001b[0m_dtype_policy\u001b[0m\u001b[0;34m.\u001b[0m\u001b[0mcompute_dtype\u001b[0m \u001b[0;32mis\u001b[0m \u001b[0;32mNone\u001b[0m\u001b[0;34m:\u001b[0m\u001b[0;34m\u001b[0m\u001b[0;34m\u001b[0m\u001b[0m\n",
            "\u001b[0;32m/usr/local/lib/python3.7/dist-packages/tensorflow/python/keras/engine/input_spec.py\u001b[0m in \u001b[0;36massert_input_compatibility\u001b[0;34m(input_spec, inputs, layer_name)\u001b[0m\n\u001b[1;32m    237\u001b[0m                          \u001b[0;34m', found ndim='\u001b[0m \u001b[0;34m+\u001b[0m \u001b[0mstr\u001b[0m\u001b[0;34m(\u001b[0m\u001b[0mndim\u001b[0m\u001b[0;34m)\u001b[0m \u001b[0;34m+\u001b[0m\u001b[0;34m\u001b[0m\u001b[0;34m\u001b[0m\u001b[0m\n\u001b[1;32m    238\u001b[0m                          \u001b[0;34m'. Full shape received: '\u001b[0m \u001b[0;34m+\u001b[0m\u001b[0;34m\u001b[0m\u001b[0;34m\u001b[0m\u001b[0m\n\u001b[0;32m--> 239\u001b[0;31m                          str(tuple(shape)))\n\u001b[0m\u001b[1;32m    240\u001b[0m     \u001b[0;31m# Check dtype.\u001b[0m\u001b[0;34m\u001b[0m\u001b[0;34m\u001b[0m\u001b[0;34m\u001b[0m\u001b[0m\n\u001b[1;32m    241\u001b[0m     \u001b[0;32mif\u001b[0m \u001b[0mspec\u001b[0m\u001b[0;34m.\u001b[0m\u001b[0mdtype\u001b[0m \u001b[0;32mis\u001b[0m \u001b[0;32mnot\u001b[0m \u001b[0;32mNone\u001b[0m\u001b[0;34m:\u001b[0m\u001b[0;34m\u001b[0m\u001b[0;34m\u001b[0m\u001b[0m\n",
            "\u001b[0;31mValueError\u001b[0m: Input 0 of layer conv2d is incompatible with the layer: : expected min_ndim=4, found ndim=3. Full shape received: (None, 30, 30)"
          ]
        }
      ]
    },
    {
      "cell_type": "markdown",
      "metadata": {
        "id": "N_ZQOvEUwL2J"
      },
      "source": [
        "#compile model "
      ]
    },
    {
      "cell_type": "code",
      "metadata": {
        "id": "nOVYNScrmzXF"
      },
      "source": [
        "model.compile(optimizer='adam',loss='categorical_crossentropy',metrics=['accuracy'])"
      ],
      "execution_count": null,
      "outputs": []
    },
    {
      "cell_type": "markdown",
      "metadata": {
        "id": "K9IoBN6vwOi5"
      },
      "source": [
        "#set learning rate"
      ]
    },
    {
      "cell_type": "code",
      "metadata": {
        "id": "pdiXhZqwm2EQ"
      },
      "source": [
        "learning_rate_reduction=ReduceLROnPlateau(monitor='val_accuracy',patience=2,verbose=1,factor=0.5,min_lr=0.00001)"
      ],
      "execution_count": null,
      "outputs": []
    },
    {
      "cell_type": "markdown",
      "metadata": {
        "id": "pzFy3wsxwRic"
      },
      "source": [
        "#train model "
      ]
    },
    {
      "cell_type": "code",
      "metadata": {
        "colab": {
          "base_uri": "https://localhost:8080/"
        },
        "id": "wWKMPF57m6mF",
        "outputId": "3b09e74f-239d-4fd7-a3eb-cabaf7498963"
      },
      "source": [
        "model.fit(x_train,y_train,batch_size=128,epochs=50,validation_data=(x_test,y_test),callbacks=[learning_rate_reduction])"
      ],
      "execution_count": null,
      "outputs": [
        {
          "output_type": "stream",
          "text": [
            "Epoch 1/50\n",
            "29/29 [==============================] - 4s 33ms/step - loss: 1.3398 - accuracy: 0.5412 - val_loss: 1.6604 - val_accuracy: 0.2341\n",
            "Epoch 2/50\n",
            "29/29 [==============================] - 0s 12ms/step - loss: 0.1379 - accuracy: 0.9541 - val_loss: 1.9018 - val_accuracy: 0.1951\n",
            "Epoch 3/50\n",
            "29/29 [==============================] - 0s 12ms/step - loss: 0.0366 - accuracy: 0.9940 - val_loss: 2.1719 - val_accuracy: 0.2000\n",
            "\n",
            "Epoch 00003: ReduceLROnPlateau reducing learning rate to 0.0005000000237487257.\n",
            "Epoch 4/50\n",
            "29/29 [==============================] - 0s 12ms/step - loss: 0.0131 - accuracy: 0.9999 - val_loss: 2.4446 - val_accuracy: 0.1951\n",
            "Epoch 5/50\n",
            "29/29 [==============================] - 0s 12ms/step - loss: 0.0079 - accuracy: 1.0000 - val_loss: 2.6744 - val_accuracy: 0.2049\n",
            "\n",
            "Epoch 00005: ReduceLROnPlateau reducing learning rate to 0.0002500000118743628.\n",
            "Epoch 6/50\n",
            "29/29 [==============================] - 0s 12ms/step - loss: 0.0067 - accuracy: 0.9997 - val_loss: 2.8853 - val_accuracy: 0.2146\n",
            "Epoch 7/50\n",
            "29/29 [==============================] - 0s 12ms/step - loss: 0.0060 - accuracy: 0.9999 - val_loss: 3.0848 - val_accuracy: 0.2049\n",
            "\n",
            "Epoch 00007: ReduceLROnPlateau reducing learning rate to 0.0001250000059371814.\n",
            "Epoch 8/50\n",
            "29/29 [==============================] - 0s 12ms/step - loss: 0.0060 - accuracy: 0.9996 - val_loss: 3.2190 - val_accuracy: 0.2439\n",
            "Epoch 9/50\n",
            "29/29 [==============================] - 0s 12ms/step - loss: 0.0047 - accuracy: 0.9999 - val_loss: 3.3318 - val_accuracy: 0.2683\n",
            "Epoch 10/50\n",
            "29/29 [==============================] - 0s 12ms/step - loss: 0.0043 - accuracy: 1.0000 - val_loss: 3.3561 - val_accuracy: 0.2927\n",
            "Epoch 11/50\n",
            "29/29 [==============================] - 0s 12ms/step - loss: 0.0048 - accuracy: 0.9998 - val_loss: 3.2352 - val_accuracy: 0.2780\n",
            "Epoch 12/50\n",
            "29/29 [==============================] - 0s 12ms/step - loss: 0.0041 - accuracy: 0.9995 - val_loss: 3.0240 - val_accuracy: 0.2927\n",
            "\n",
            "Epoch 00012: ReduceLROnPlateau reducing learning rate to 6.25000029685907e-05.\n",
            "Epoch 13/50\n",
            "29/29 [==============================] - 0s 12ms/step - loss: 0.0039 - accuracy: 1.0000 - val_loss: 2.7837 - val_accuracy: 0.3024\n",
            "Epoch 14/50\n",
            "29/29 [==============================] - 0s 12ms/step - loss: 0.0035 - accuracy: 1.0000 - val_loss: 2.4269 - val_accuracy: 0.3463\n",
            "Epoch 15/50\n",
            "29/29 [==============================] - 0s 12ms/step - loss: 0.0037 - accuracy: 0.9997 - val_loss: 2.0191 - val_accuracy: 0.3902\n",
            "Epoch 16/50\n",
            "29/29 [==============================] - 0s 12ms/step - loss: 0.0033 - accuracy: 1.0000 - val_loss: 1.5792 - val_accuracy: 0.4488\n",
            "Epoch 17/50\n",
            "29/29 [==============================] - 0s 13ms/step - loss: 0.0027 - accuracy: 1.0000 - val_loss: 1.1486 - val_accuracy: 0.5707\n",
            "Epoch 18/50\n",
            "29/29 [==============================] - 0s 12ms/step - loss: 0.0027 - accuracy: 1.0000 - val_loss: 0.7611 - val_accuracy: 0.6488\n",
            "Epoch 19/50\n",
            "29/29 [==============================] - 0s 12ms/step - loss: 0.0030 - accuracy: 1.0000 - val_loss: 0.4349 - val_accuracy: 0.7756\n",
            "Epoch 20/50\n",
            "29/29 [==============================] - 0s 12ms/step - loss: 0.0036 - accuracy: 0.9995 - val_loss: 0.2601 - val_accuracy: 0.8537\n",
            "Epoch 21/50\n",
            "29/29 [==============================] - 0s 12ms/step - loss: 0.0028 - accuracy: 0.9999 - val_loss: 0.1216 - val_accuracy: 0.9610\n",
            "Epoch 22/50\n",
            "29/29 [==============================] - 0s 12ms/step - loss: 0.0024 - accuracy: 1.0000 - val_loss: 0.0603 - val_accuracy: 0.9902\n",
            "Epoch 23/50\n",
            "29/29 [==============================] - 0s 12ms/step - loss: 0.0034 - accuracy: 1.0000 - val_loss: 0.0336 - val_accuracy: 0.9951\n",
            "Epoch 24/50\n",
            "29/29 [==============================] - 0s 12ms/step - loss: 0.0028 - accuracy: 1.0000 - val_loss: 0.0210 - val_accuracy: 0.9951\n",
            "Epoch 25/50\n",
            "29/29 [==============================] - 0s 12ms/step - loss: 0.0022 - accuracy: 1.0000 - val_loss: 0.0130 - val_accuracy: 1.0000\n",
            "Epoch 26/50\n",
            "29/29 [==============================] - 0s 12ms/step - loss: 0.0024 - accuracy: 1.0000 - val_loss: 0.0104 - val_accuracy: 1.0000\n",
            "Epoch 27/50\n",
            "29/29 [==============================] - 0s 12ms/step - loss: 0.0042 - accuracy: 0.9987 - val_loss: 0.0086 - val_accuracy: 1.0000\n",
            "\n",
            "Epoch 00027: ReduceLROnPlateau reducing learning rate to 3.125000148429535e-05.\n",
            "Epoch 28/50\n",
            "29/29 [==============================] - 0s 12ms/step - loss: 0.0023 - accuracy: 1.0000 - val_loss: 0.0071 - val_accuracy: 1.0000\n",
            "Epoch 29/50\n",
            "29/29 [==============================] - 0s 12ms/step - loss: 0.0028 - accuracy: 0.9993 - val_loss: 0.0065 - val_accuracy: 1.0000\n",
            "\n",
            "Epoch 00029: ReduceLROnPlateau reducing learning rate to 1.5625000742147677e-05.\n",
            "Epoch 30/50\n",
            "29/29 [==============================] - 0s 12ms/step - loss: 0.0023 - accuracy: 1.0000 - val_loss: 0.0053 - val_accuracy: 1.0000\n",
            "Epoch 31/50\n",
            "29/29 [==============================] - 0s 12ms/step - loss: 0.0025 - accuracy: 1.0000 - val_loss: 0.0048 - val_accuracy: 1.0000\n",
            "\n",
            "Epoch 00031: ReduceLROnPlateau reducing learning rate to 1e-05.\n",
            "Epoch 32/50\n",
            "29/29 [==============================] - 0s 12ms/step - loss: 0.0027 - accuracy: 1.0000 - val_loss: 0.0045 - val_accuracy: 1.0000\n",
            "Epoch 33/50\n",
            "29/29 [==============================] - 0s 13ms/step - loss: 0.0022 - accuracy: 1.0000 - val_loss: 0.0043 - val_accuracy: 1.0000\n",
            "Epoch 34/50\n",
            "29/29 [==============================] - 0s 12ms/step - loss: 0.0022 - accuracy: 1.0000 - val_loss: 0.0041 - val_accuracy: 1.0000\n",
            "Epoch 35/50\n",
            "29/29 [==============================] - 0s 12ms/step - loss: 0.0024 - accuracy: 0.9994 - val_loss: 0.0037 - val_accuracy: 1.0000\n",
            "Epoch 36/50\n",
            "29/29 [==============================] - 0s 12ms/step - loss: 0.0021 - accuracy: 1.0000 - val_loss: 0.0037 - val_accuracy: 1.0000\n",
            "Epoch 37/50\n",
            "29/29 [==============================] - 0s 12ms/step - loss: 0.0019 - accuracy: 1.0000 - val_loss: 0.0036 - val_accuracy: 1.0000\n",
            "Epoch 38/50\n",
            "29/29 [==============================] - 0s 12ms/step - loss: 0.0035 - accuracy: 0.9996 - val_loss: 0.0035 - val_accuracy: 1.0000\n",
            "Epoch 39/50\n",
            "29/29 [==============================] - 0s 12ms/step - loss: 0.0022 - accuracy: 1.0000 - val_loss: 0.0035 - val_accuracy: 1.0000\n",
            "Epoch 40/50\n",
            "29/29 [==============================] - 0s 12ms/step - loss: 0.0018 - accuracy: 1.0000 - val_loss: 0.0036 - val_accuracy: 1.0000\n",
            "Epoch 41/50\n",
            "29/29 [==============================] - 0s 12ms/step - loss: 0.0024 - accuracy: 1.0000 - val_loss: 0.0037 - val_accuracy: 1.0000\n",
            "Epoch 42/50\n",
            "29/29 [==============================] - 0s 12ms/step - loss: 0.0019 - accuracy: 1.0000 - val_loss: 0.0037 - val_accuracy: 1.0000\n",
            "Epoch 43/50\n",
            "29/29 [==============================] - 0s 12ms/step - loss: 0.0021 - accuracy: 1.0000 - val_loss: 0.0035 - val_accuracy: 1.0000\n",
            "Epoch 44/50\n",
            "29/29 [==============================] - 0s 12ms/step - loss: 0.0020 - accuracy: 1.0000 - val_loss: 0.0033 - val_accuracy: 1.0000\n",
            "Epoch 45/50\n",
            "29/29 [==============================] - 0s 12ms/step - loss: 0.0019 - accuracy: 1.0000 - val_loss: 0.0033 - val_accuracy: 1.0000\n",
            "Epoch 46/50\n",
            "29/29 [==============================] - 0s 12ms/step - loss: 0.0021 - accuracy: 0.9999 - val_loss: 0.0036 - val_accuracy: 1.0000\n",
            "Epoch 47/50\n",
            "29/29 [==============================] - 0s 12ms/step - loss: 0.0024 - accuracy: 1.0000 - val_loss: 0.0038 - val_accuracy: 1.0000\n",
            "Epoch 48/50\n",
            "29/29 [==============================] - 0s 12ms/step - loss: 0.0020 - accuracy: 1.0000 - val_loss: 0.0036 - val_accuracy: 1.0000\n",
            "Epoch 49/50\n",
            "29/29 [==============================] - 0s 12ms/step - loss: 0.0019 - accuracy: 0.9998 - val_loss: 0.0038 - val_accuracy: 1.0000\n",
            "Epoch 50/50\n",
            "29/29 [==============================] - 0s 12ms/step - loss: 0.0016 - accuracy: 1.0000 - val_loss: 0.0033 - val_accuracy: 1.0000\n"
          ],
          "name": "stdout"
        },
        {
          "output_type": "execute_result",
          "data": {
            "text/plain": [
              "<tensorflow.python.keras.callbacks.History at 0x7f2ab00fecd0>"
            ]
          },
          "metadata": {
            "tags": []
          },
          "execution_count": 12
        }
      ]
    },
    {
      "cell_type": "markdown",
      "metadata": {
        "id": "yYUB7InjwUcb"
      },
      "source": [
        "#check final accuracy "
      ]
    },
    {
      "cell_type": "code",
      "metadata": {
        "colab": {
          "base_uri": "https://localhost:8080/"
        },
        "id": "_rfwGYJ-nd9v",
        "outputId": "93a497d0-b7b2-4650-dd7c-c177772513f5"
      },
      "source": [
        "model.evaluate(x_test,y_test)"
      ],
      "execution_count": null,
      "outputs": [
        {
          "output_type": "stream",
          "text": [
            "7/7 [==============================] - 0s 9ms/step - loss: 0.0033 - accuracy: 1.0000\n"
          ],
          "name": "stdout"
        },
        {
          "output_type": "execute_result",
          "data": {
            "text/plain": [
              "[0.0032505334820598364, 1.0]"
            ]
          },
          "metadata": {
            "tags": []
          },
          "execution_count": 13
        }
      ]
    },
    {
      "cell_type": "markdown",
      "metadata": {
        "id": "-MI7AfV6wV5a"
      },
      "source": [
        "#see predictions"
      ]
    },
    {
      "cell_type": "code",
      "metadata": {
        "colab": {
          "base_uri": "https://localhost:8080/"
        },
        "id": "PC2oUiMfnf6L",
        "outputId": "9a257c83-262f-44b4-9646-ffd6280a9bdb"
      },
      "source": [
        "predictions= model.predict_classes(x_test)\n",
        "for i in range(len(predictions)):\n",
        "  if( predictions[i]>=9 or predictions[i]>=25):\n",
        "    predictions[i]+=1\n",
        "predictions[:10]"
      ],
      "execution_count": null,
      "outputs": [
        {
          "output_type": "stream",
          "text": [
            "/usr/local/lib/python3.7/dist-packages/tensorflow/python/keras/engine/sequential.py:450: UserWarning: `model.predict_classes()` is deprecated and will be removed after 2021-01-01. Please use instead:* `np.argmax(model.predict(x), axis=-1)`,   if your model does multi-class classification   (e.g. if it uses a `softmax` last-layer activation).* `(model.predict(x) > 0.5).astype(\"int32\")`,   if your model does binary classification   (e.g. if it uses a `sigmoid` last-layer activation).\n",
            "  warnings.warn('`model.predict_classes()` is deprecated and '\n"
          ],
          "name": "stderr"
        },
        {
          "output_type": "execute_result",
          "data": {
            "text/plain": [
              "array([0, 1, 4, 0, 2, 0, 4, 1, 1, 2])"
            ]
          },
          "metadata": {
            "tags": []
          },
          "execution_count": 14
        }
      ]
    },
    {
      "cell_type": "markdown",
      "metadata": {
        "id": "sgJEW0yBvkQ4"
      },
      "source": [
        "# save model\n"
      ]
    },
    {
      "cell_type": "code",
      "metadata": {
        "id": "CEtBLOODnh_a"
      },
      "source": [
        "model.save('HGR_CNN.h5')"
      ],
      "execution_count": null,
      "outputs": []
    },
    {
      "cell_type": "markdown",
      "metadata": {
        "id": "AHDqJXhRwcjL"
      },
      "source": [
        "#show images with predictions"
      ]
    },
    {
      "cell_type": "code",
      "metadata": {
        "id": "NUBBEKh0nkG2"
      },
      "source": [
        "def show_img(img,df):\n",
        "  pixels=data_test.iloc[img,0:]\n",
        "  pixels=np.array(pixels,dtype='uint8')\n",
        "  pixels=pixels.reshape((30,30))\n",
        "  plt.title('Image')\n",
        "  plt.imshow(pixels,cmap='gray')\n",
        "  plt.show()"
      ],
      "execution_count": null,
      "outputs": []
    },
    {
      "cell_type": "markdown",
      "metadata": {
        "id": "I9OjRHq2twXM"
      },
      "source": [
        "0 = backward -\n",
        "1 = forward -\n",
        "2 = left -\n",
        "3 = right -\n",
        "4 = stop "
      ]
    },
    {
      "cell_type": "code",
      "metadata": {
        "colab": {
          "base_uri": "https://localhost:8080/",
          "height": 1000
        },
        "id": "MNUAcyIRnlpH",
        "outputId": "8562448c-4769-4e31-a13b-53f8a5ea3653"
      },
      "source": [
        "for i in [0, 1, 2, 3, 4]:\n",
        "  show_img(i,data_test)\n",
        "  print(\"\\nvaleur de predictions : \",predictions[i],\"\\n\")\n",
        "  print(\"\\n***********************************\\n\")"
      ],
      "execution_count": null,
      "outputs": [
        {
          "output_type": "display_data",
          "data": {
            "image/png": "[encoded data removed]",
            "text/plain": [
              "<Figure size 432x288 with 1 Axes>"
            ]
          },
          "metadata": {
            "tags": [],
            "needs_background": "light"
          }
        },
        {
          "output_type": "stream",
          "text": [
            "\n",
            "valeur de predictions :  0 \n",
            "\n",
            "\n",
            "***********************************\n",
            "\n"
          ],
          "name": "stdout"
        },
        {
          "output_type": "display_data",
          "data": {
            "image/png": "[encoded data removed]",
            "text/plain": [
              "<Figure size 432x288 with 1 Axes>"
            ]
          },
          "metadata": {
            "tags": [],
            "needs_background": "light"
          }
        },
        {
          "output_type": "stream",
          "text": [
            "\n",
            "valeur de predictions :  1 \n",
            "\n",
            "\n",
            "***********************************\n",
            "\n"
          ],
          "name": "stdout"
        },
        {
          "output_type": "display_data",
          "data": {
            "image/png": "[encoded data removed]",
            "text/plain": [
              "<Figure size 432x288 with 1 Axes>"
            ]
          },
          "metadata": {
            "tags": [],
            "needs_background": "light"
          }
        },
        {
          "output_type": "stream",
          "text": [
            "\n",
            "valeur de predictions :  4 \n",
            "\n",
            "\n",
            "***********************************\n",
            "\n"
          ],
          "name": "stdout"
        },
        {
          "output_type": "display_data",
          "data": {
            "image/png": "[encoded data removed]",
            "text/plain": [
              "<Figure size 432x288 with 1 Axes>"
            ]
          },
          "metadata": {
            "tags": [],
            "needs_background": "light"
          }
        },
        {
          "output_type": "stream",
          "text": [
            "\n",
            "valeur de predictions :  0 \n",
            "\n",
            "\n",
            "***********************************\n",
            "\n"
          ],
          "name": "stdout"
        },
        {
          "output_type": "display_data",
          "data": {
            "image/png": "[encoded data removed]",
            "text/plain": [
              "<Figure size 432x288 with 1 Axes>"
            ]
          },
          "metadata": {
            "tags": [],
            "needs_background": "light"
          }
        },
        {
          "output_type": "stream",
          "text": [
            "\n",
            "valeur de predictions :  2 \n",
            "\n",
            "\n",
            "***********************************\n",
            "\n"
          ],
          "name": "stdout"
        }
      ]
    }
  ]
}